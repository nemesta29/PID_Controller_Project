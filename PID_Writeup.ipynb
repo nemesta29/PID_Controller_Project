{
 "cells": [
  {
   "cell_type": "markdown",
   "metadata": {},
   "source": [
    "# CarND-Controls-PID\n",
    "Self-Driving Car Engineer Nanodegree Program\n",
    "\n",
    "---\n",
    "\n",
    "## Dependencies\n",
    "\n",
    "* cmake >= 3.5\n",
    " * All OSes: [click here for installation instructions](https://cmake.org/install/)\n",
    "* make >= 4.1(mac, linux), 3.81(Windows)\n",
    "  * Linux: make is installed by default on most Linux distros\n",
    "  * Mac: [install Xcode command line tools to get make](https://developer.apple.com/xcode/features/)\n",
    "  * Windows: [Click here for installation instructions](http://gnuwin32.sourceforge.net/packages/make.htm)\n",
    "* gcc/g++ >= 5.4\n",
    "  * Linux: gcc / g++ is installed by default on most Linux distros\n",
    "  * Mac: same deal as make - [install Xcode command line tools]((https://developer.apple.com/xcode/features/)\n",
    "  * Windows: recommend using [MinGW](http://www.mingw.org/)\n",
    "* [uWebSockets](https://github.com/uWebSockets/uWebSockets)\n",
    "  * Run either `./install-mac.sh` or `./install-ubuntu.sh`.\n",
    "  * If you install from source, checkout to commit `e94b6e1`, i.e.\n",
    "    ```\n",
    "    git clone https://github.com/uWebSockets/uWebSockets \n",
    "    cd uWebSockets\n",
    "    git checkout e94b6e1\n",
    "    ```\n",
    "    Some function signatures have changed in v0.14.x. See [this PR](https://github.com/udacity/CarND-MPC-Project/pull/3) for more details.\n",
    "* Simulator. You can download these from the [project intro page](https://github.com/udacity/self-driving-car-sim/releases) in the classroom.\n",
    "\n",
    "There's an experimental patch for windows in this [PR](https://github.com/udacity/CarND-PID-Control-Project/pull/3)\n",
    "\n",
    "## Basic Build Instructions\n",
    "\n",
    "1. Clone this repo.\n",
    "2. Make a build directory: `mkdir build && cd build`\n",
    "3. Compile: `cmake .. && make`\n",
    "4. Run it: `./pid`. \n",
    "\n",
    "## Reflection\n",
    "\n",
    "The PID project consisted of tuning a PID controller to run our car in a simulator and successfully complete a lap. The PID controller consists of three parameters, (P)roportional, (I)ntegral and (D)erivative. The proportional term works to reduce the overall error to stay on the track. The integral term cancels out any error inherent in the system and the derivative term brings stability to the system.\n",
    "\n",
    "In my implementation, I used Twiddle, a technique that would implement various combinations of PID, using the following logic (code is implemented in PID.cpp and called using pid.Twiddle() in main function) :\n",
    "1. Check for every 250 steps\n",
    "    - If running for first time, compute base best_error, increment param with change factor and run again\n",
    "    - Otherwise compute error for that step and compare with best error\n",
    "2. If error is less than best_error, use new error as best_error and increment change factor\n",
    "    - Change flag for parameter change\n",
    "3. Otherwise subtract change factor and check again, set flag to indicate this step ran\n",
    "    - Repeat step 2 if success\n",
    "    - If it fails again, reduce change factor and set flag for change of parameter\n",
    "4. Repeat the step till steady run occurs (limit seen manually)\n",
    "\n",
    "I had changed this logic to accommodate socket event. Using the on event as a loop, I incremented the counter at every UpdateError step and obtained a parameter tuning method.\n",
    "\n",
    "I saved the values obtained as best_error, error and next param values in a text file as follows:\n",
    "![image1](./Data_File.png)\n",
    "\n",
    "Using the data, I picked the best result for my system and ran the simulator with the same values for a successful run.\n",
    "Note : Due to system constraints, I was unable to use a high throttle value."
   ]
  },
  {
   "cell_type": "code",
   "execution_count": null,
   "metadata": {},
   "outputs": [],
   "source": []
  }
 ],
 "metadata": {
  "kernelspec": {
   "display_name": "Python [conda env:carnd-term1]",
   "language": "python",
   "name": "conda-env-carnd-term1-py"
  },
  "language_info": {
   "codemirror_mode": {
    "name": "ipython",
    "version": 3
   },
   "file_extension": ".py",
   "mimetype": "text/x-python",
   "name": "python",
   "nbconvert_exporter": "python",
   "pygments_lexer": "ipython3",
   "version": "3.5.2"
  },
  "widgets": {
   "state": {},
   "version": "1.1.2"
  }
 },
 "nbformat": 4,
 "nbformat_minor": 2
}
